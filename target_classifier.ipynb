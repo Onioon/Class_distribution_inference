{
 "cells": [
  {
   "cell_type": "code",
   "execution_count": 67,
   "metadata": {},
   "outputs": [],
   "source": [
    "import argparse\n",
    "import time\n",
    "\n",
    "import numpy as np\n",
    "import pandas as pd\n",
    "from sklearn.preprocessing import LabelEncoder, OneHotEncoder\n",
    "from sklearn.model_selection import train_test_split\n",
    "import warnings\n",
    "\n",
    "import torch\n",
    "from torch.autograd import Variable\n",
    "from torch.utils.data import DataLoader\n",
    "import torchvision\n",
    "import torch.nn as nn\n",
    "import torch.nn.functional as F\n",
    "\n",
    "import torch.utils.data as data\n",
    "import matplotlib.pyplot as plt\n",
    "from matplotlib.pyplot import imshow\n",
    "from scipy.signal import savgol_filter"
   ]
  },
  {
   "cell_type": "code",
   "execution_count": 68,
   "metadata": {},
   "outputs": [
    {
     "name": "stdout",
     "output_type": "stream",
     "text": [
      "<class 'pandas.core.frame.DataFrame'>\n",
      "RangeIndex: 48842 entries, 0 to 48841\n",
      "Data columns (total 15 columns):\n",
      " #   Column           Non-Null Count  Dtype \n",
      "---  ------           --------------  ----- \n",
      " 0   age              48842 non-null  int64 \n",
      " 1   workclass        48842 non-null  object\n",
      " 2   fnlwgt           48842 non-null  int64 \n",
      " 3   education        48842 non-null  object\n",
      " 4   educational-num  48842 non-null  int64 \n",
      " 5   marital-status   48842 non-null  object\n",
      " 6   occupation       48842 non-null  object\n",
      " 7   relationship     48842 non-null  object\n",
      " 8   race             48842 non-null  object\n",
      " 9   gender           48842 non-null  object\n",
      " 10  capital-gain     48842 non-null  int64 \n",
      " 11  capital-loss     48842 non-null  int64 \n",
      " 12  hours-per-week   48842 non-null  int64 \n",
      " 13  native-country   48842 non-null  object\n",
      " 14  income           48842 non-null  object\n",
      "dtypes: int64(6), object(9)\n",
      "memory usage: 5.6+ MB\n",
      "None\n"
     ]
    }
   ],
   "source": [
    "### READ DATA ###\n",
    "data = pd.read_csv('adult.csv')\n",
    "print(data.info())"
   ]
  },
  {
   "cell_type": "code",
   "execution_count": 69,
   "metadata": {},
   "outputs": [
    {
     "name": "stdout",
     "output_type": "stream",
     "text": [
      "(48842, 15)\n",
      "Index(['age', 'workclass', 'fnlwgt', 'education', 'educational-num',\n",
      "       'marital-status', 'occupation', 'relationship', 'race', 'gender',\n",
      "       'capital-gain', 'capital-loss', 'hours-per-week', 'native-country',\n",
      "       'income'],\n",
      "      dtype='object')\n",
      "   age  workclass  fnlwgt     education  educational-num      marital-status  \\\n",
      "0   25    Private  226802          11th                7       Never-married   \n",
      "1   38    Private   89814       HS-grad                9  Married-civ-spouse   \n",
      "2   28  Local-gov  336951    Assoc-acdm               12  Married-civ-spouse   \n",
      "3   44    Private  160323  Some-college               10  Married-civ-spouse   \n",
      "4   18          ?  103497  Some-college               10       Never-married   \n",
      "\n",
      "          occupation relationship   race  gender  capital-gain  capital-loss  \\\n",
      "0  Machine-op-inspct    Own-child  Black    Male             0             0   \n",
      "1    Farming-fishing      Husband  White    Male             0             0   \n",
      "2    Protective-serv      Husband  White    Male             0             0   \n",
      "3  Machine-op-inspct      Husband  Black    Male          7688             0   \n",
      "4                  ?    Own-child  White  Female             0             0   \n",
      "\n",
      "   hours-per-week native-country income  \n",
      "0              40  United-States  <=50K  \n",
      "1              50  United-States  <=50K  \n",
      "2              40  United-States   >50K  \n",
      "3              40  United-States   >50K  \n",
      "4              30  United-States  <=50K  \n"
     ]
    },
    {
     "data": {
      "text/plain": [
       "<=50K    37155\n",
       ">50K     11687\n",
       "Name: income, dtype: int64"
      ]
     },
     "execution_count": 69,
     "metadata": {},
     "output_type": "execute_result"
    }
   ],
   "source": [
    "print(data.shape)\n",
    "print(data.columns)\n",
    "print(data[:5])\n",
    "income = pd.Index([\">50K\", \"<=50K\"])\n",
    "data.income.value_counts()"
   ]
  },
  {
   "cell_type": "code",
   "execution_count": 70,
   "metadata": {},
   "outputs": [
    {
     "data": {
      "text/plain": [
       "<=50K    34014\n",
       ">50K     11208\n",
       "Name: income, dtype: int64"
      ]
     },
     "execution_count": 70,
     "metadata": {},
     "output_type": "execute_result"
    }
   ],
   "source": [
    "### DATA CLEANING AND CHECK ###\n",
    "col_names = data.columns\n",
    "num_rows = data.shape[0]\n",
    "\n",
    "for feature in col_names: \n",
    "    count = data[feature].isin([\"?\"]).sum() #sum the \"?\"s in the column  \n",
    "#     print(\"?s in\", feature, \":\", count)\n",
    "    \n",
    "\n",
    "# Get rid of samples with\"?\"  \n",
    "    warnings.simplefilter(action='ignore', category=FutureWarning)\n",
    "    data = data[data[feature] != \"?\"]\n",
    "    \n",
    "data.income.value_counts()"
   ]
  },
  {
   "cell_type": "code",
   "execution_count": 71,
   "metadata": {
    "scrolled": true
   },
   "outputs": [
    {
     "name": "stdout",
     "output_type": "stream",
     "text": [
      "----- workclass -----\n",
      "Private             33307\n",
      "Self-emp-not-inc     3796\n",
      "Local-gov            3100\n",
      "State-gov            1946\n",
      "Self-emp-inc         1646\n",
      "Federal-gov          1406\n",
      "Without-pay            21\n",
      "Name: workclass, dtype: int64\n",
      "----- race -----\n",
      "White                 38903\n",
      "Black                  4228\n",
      "Asian-Pac-Islander     1303\n",
      "Amer-Indian-Eskimo      435\n",
      "Other                   353\n",
      "Name: race, dtype: int64\n",
      "----- education -----\n",
      "HS-grad         14783\n",
      "Some-college     9899\n",
      "Bachelors        7570\n",
      "Masters          2514\n",
      "Assoc-voc        1959\n",
      "11th             1619\n",
      "Assoc-acdm       1507\n",
      "10th             1223\n",
      "7th-8th           823\n",
      "Prof-school       785\n",
      "9th               676\n",
      "12th              577\n",
      "Doctorate         544\n",
      "5th-6th           449\n",
      "1st-4th           222\n",
      "Preschool          72\n",
      "Name: education, dtype: int64\n",
      "----- marital-status -----\n",
      "Married-civ-spouse       21055\n",
      "Never-married            14598\n",
      "Divorced                  6297\n",
      "Separated                 1411\n",
      "Widowed                   1277\n",
      "Married-spouse-absent      552\n",
      "Married-AF-spouse           32\n",
      "Name: marital-status, dtype: int64\n",
      "----- occupation -----\n",
      "Craft-repair         6020\n",
      "Prof-specialty       6008\n",
      "Exec-managerial      5984\n",
      "Adm-clerical         5540\n",
      "Sales                5408\n",
      "Other-service        4808\n",
      "Machine-op-inspct    2970\n",
      "Transport-moving     2316\n",
      "Handlers-cleaners    2046\n",
      "Farming-fishing      1480\n",
      "Tech-support         1420\n",
      "Protective-serv       976\n",
      "Priv-house-serv       232\n",
      "Armed-Forces           14\n",
      "Name: occupation, dtype: int64\n",
      "----- relationship -----\n",
      "Husband           18666\n",
      "Not-in-family     11702\n",
      "Own-child          6626\n",
      "Unmarried          4788\n",
      "Wife               2091\n",
      "Other-relative     1349\n",
      "Name: relationship, dtype: int64\n",
      "----- gender -----\n",
      "Male      30527\n",
      "Female    14695\n",
      "Name: gender, dtype: int64\n",
      "----- native-country -----\n",
      "United-States                 41292\n",
      "Mexico                          903\n",
      "Philippines                     283\n",
      "Germany                         193\n",
      "Puerto-Rico                     175\n",
      "Canada                          163\n",
      "India                           147\n",
      "El-Salvador                     147\n",
      "Cuba                            133\n",
      "England                         119\n",
      "China                           113\n",
      "Jamaica                         103\n",
      "South                           101\n",
      "Italy                           100\n",
      "Dominican-Republic               97\n",
      "Japan                            89\n",
      "Guatemala                        86\n",
      "Vietnam                          83\n",
      "Columbia                         82\n",
      "Poland                           81\n",
      "Haiti                            69\n",
      "Portugal                         62\n",
      "Iran                             56\n",
      "Taiwan                           55\n",
      "Greece                           49\n",
      "Nicaragua                        48\n",
      "Peru                             45\n",
      "Ecuador                          43\n",
      "Ireland                          36\n",
      "France                           36\n",
      "Thailand                         29\n",
      "Hong                             28\n",
      "Cambodia                         26\n",
      "Trinadad&Tobago                  26\n",
      "Yugoslavia                       23\n",
      "Outlying-US(Guam-USVI-etc)       22\n",
      "Laos                             21\n",
      "Scotland                         20\n",
      "Honduras                         19\n",
      "Hungary                          18\n",
      "Holand-Netherlands                1\n",
      "Name: native-country, dtype: int64\n",
      "----- income -----\n",
      "<=50K    34014\n",
      ">50K     11208\n",
      "Name: income, dtype: int64\n"
     ]
    }
   ],
   "source": [
    "for feature in col_names: \n",
    "    count = data[feature].isin([\"?\"]).sum() #sum the \"?\"s in the column  \n",
    "#     print(\"?s in\", feature, \":\", count)\n",
    "    \n",
    "categorical_feats = ['workclass', 'race', 'education', 'marital-status', 'occupation',\n",
    "                    'relationship', 'gender', 'native-country', 'income']\n",
    "\n",
    "#Check each possible value of a categorical feature and how often it occurs\n",
    "for feature in categorical_feats:\n",
    "    print(\"-----\",feature,\"-----\")\n",
    "    print(data[feature].value_counts()) # No.of each distinct feature/feature column\n",
    "    \n",
    "    n = len(pd.unique(data[feature]))\n",
    " \n"
   ]
  },
  {
   "cell_type": "code",
   "execution_count": 72,
   "metadata": {},
   "outputs": [
    {
     "name": "stdout",
     "output_type": "stream",
     "text": [
      "(11208, 105)\n",
      "(34014, 105)\n",
      "(30527, 105)\n"
     ]
    }
   ],
   "source": [
    "### ENCODE DATA ###\n",
    "# 1. Encode categorical features, drop the income\n",
    "label_encoder = LabelEncoder() \n",
    "cts_feats = ['age','fnlwgt','educational-num','capital-gain','capital-loss','hours-per-week']\n",
    "cat_data = data.drop(columns = cts_feats)\n",
    "cat_data_encoded = cat_data.apply(label_encoder.fit_transform)\n",
    "labels = cat_data_encoded['income'].values.reshape(45222, 1)  # labels in columns\n",
    "cat_data_encoded = cat_data_encoded.drop(columns = 'income')\n",
    "\n",
    "\n",
    "one_hot_encoder = OneHotEncoder()\n",
    "cat_one_hot = one_hot_encoder.fit(cat_data_encoded.values)\n",
    "cat_one_hot = one_hot_encoder.transform(cat_data_encoded.values).toarray() #98 features\n",
    "\n",
    "\n",
    "# 2. Normalize continuous features\n",
    "cts_data = data.drop(columns=categorical_feats)\n",
    "cts_mean = cts_data.mean(axis = 0)\n",
    "cts_std = cts_data.std(axis = 0)\n",
    "cts_data = cts_data.sub(cts_mean,axis=1)\n",
    "cts_data = cts_data.div(cts_std,axis=1)\n",
    "\n",
    "X = np.concatenate([cts_data, cat_one_hot, labels], axis = 1) \n",
    "# X = np.concatenate([cts_data, cat_one_hot], axis = 1) \n",
    "X_high = X[X[:,104] == 1] #11208\n",
    "X_low = X[X[:,104] == 0]\n",
    "print(X_high.shape)\n",
    "print(X_low.shape)\n",
    "\n",
    "X_male = X[X[:,62] == 1]\n",
    "X_female = X[X[:,62] == 0]\n",
    "print(X_male.shape)"
   ]
  },
  {
   "cell_type": "code",
   "execution_count": 73,
   "metadata": {},
   "outputs": [],
   "source": [
    "# Define Adult Dataset class \n",
    "class AdultDataset(torch.utils.data.Dataset):\n",
    "    def __init__(self, X, y):\n",
    "        self.X = X\n",
    "        self.y = y\n",
    "        \n",
    "    def __len__(self):\n",
    "        return len(self.X)\n",
    "\n",
    "    def __getitem__(self, index):\n",
    "        # generates one sample of data\n",
    "        return torch.from_numpy(self.X[index]),self.y[index]"
   ]
  },
  {
   "cell_type": "code",
   "execution_count": 74,
   "metadata": {},
   "outputs": [],
   "source": [
    "# Set the protion of different labels, Encode the training data into a required class\n",
    "def load_data(portion: int):\n",
    "    #portion of the rich\n",
    "    n = 5500\n",
    "    n_high = int(n/100*portion)\n",
    "    n_low = n - n_high\n",
    "    sample_train = None\n",
    "    \n",
    "    \n",
    "    np.random.shuffle(X_high)\n",
    "    np.random.shuffle(X_low)\n",
    "    sample_train = np.concatenate((X_high[:n_high], X_low[:n_low]), 0)\n",
    "    \n",
    "    train_X = sample_train[:,:104]\n",
    "    train_y = sample_train[:,104:105].reshape(n)\n",
    "    train_data = AdultDataset(train_X, train_y)\n",
    "    \n",
    "    np.random.shuffle(X)\n",
    "    sample_test = X[1000:1200] \n",
    "    test_X = sample_test[:,:104]\n",
    "    test_y = sample_test[:,104:105].reshape(200)\n",
    "    test_data = AdultDataset(test_X, test_y) \n",
    "       \n",
    "    train_loader = DataLoader(dataset=train_data,batch_size=32,shuffle=True)\n",
    "    test_loader = DataLoader(dataset=test_data,batch_size=32,shuffle=True)\n",
    "    return train_data"
   ]
  },
  {
   "cell_type": "code",
   "execution_count": 91,
   "metadata": {},
   "outputs": [],
   "source": [
    "# Define the architecture of the network \n",
    "class net(nn.Module):\n",
    "    def __init__(self):\n",
    "        super(net, self).__init__()\n",
    "        self.fc1 = nn.Linear(104, 32)\n",
    "        self.fc2 = nn.Linear(32, 16)\n",
    "        self.fc3 = nn.Linear(16, 8)\n",
    "        self.fc4 = nn.Linear(8, 1)\n",
    "        \n",
    "    def forward(self, x):\n",
    "        x = F.relu(self.fc1(x))\n",
    "        x = F.relu(self.fc2(x))\n",
    "        x = F.relu(self.fc3(x))\n",
    "#         return torch.sigmoid(self.fc4(x))\n",
    "        return self.fc4(x)\n",
    "        "
   ]
  },
  {
   "cell_type": "code",
   "execution_count": 92,
   "metadata": {},
   "outputs": [],
   "source": [
    "#Define the accuracy on the test set\n",
    "def accuracy(model, val_loader):\n",
    "    model.eval()\n",
    "    total_corr = 0\n",
    "    for i,data in enumerate(val_loader):\n",
    "        inputs,labels = data\n",
    "        y_pred = model(inputs.float())\n",
    "        for i in range (len(labels)):\n",
    "            #<=50k is encoded to 0 and > 50k encoded to 1\n",
    "            if (y_pred[i].item() > 0.5):\n",
    "                r = 1\n",
    "            else:\n",
    "                r = 0\n",
    "            if (r == labels[i].item()):\n",
    "                total_corr += 1\n",
    "\n",
    "    return float(total_corr)/len(val_loader.dataset)"
   ]
  },
  {
   "cell_type": "code",
   "execution_count": 93,
   "metadata": {
    "scrolled": false
   },
   "outputs": [],
   "source": [
    "# Initialize a network and specify the loss function and optimizer|binary cross entrophy and Adam optimizer\n",
    "def get_model_paras(portion: int):\n",
    "    lr = 0.001 #learning rate \n",
    "    epochs = 50\n",
    "\n",
    "    train_dataset, test_dataset = torch.utils.data.random_split(load_data(portion = portion), [5000, 500])\n",
    "    train_loader = DataLoader(dataset=train_dataset,batch_size=32,shuffle=True)\n",
    "    test_loader = DataLoader(dataset=test_dataset,batch_size=32,shuffle=True)\n",
    "#     train_loader, test_loader = load_data(portion = portion)\n",
    "    \n",
    "    model = net()\n",
    "    #CrossEntropyLoss takes batch_size*class_number tensor as pred, batch_size 1D tensor as target\n",
    "    criterion = nn.BCEWithLogitsLoss()\n",
    "#     criterion = nn.BCELoss()\n",
    "    optimizer = torch.optim.Adam(model.parameters(), lr, weight_decay=1e-2)\n",
    "    model.train()\n",
    "    loss_list = []\n",
    "\n",
    "    for epoch in range(epochs):\n",
    "            running_loss = 0       \n",
    "            for data, target in train_loader:\n",
    "                optimizer.zero_grad()\n",
    "                output = model(data.float()).squeeze()\n",
    "                loss = criterion(output.float(), target.float())\n",
    "                loss.backward()\n",
    "                optimizer.step()            \n",
    "                running_loss += loss.item()\n",
    "            \n",
    "            loss_list.append(running_loss)\n",
    "    plt.plot(loss_list)\n",
    "    plt.xlabel('epochs')\n",
    "    plt.ylabel('Crossentropy Loss')\n",
    "    plt.show()\n",
    "    \n",
    "    layers = []\n",
    "    i = 0\n",
    "    for name, param in model.named_parameters():\n",
    "        if(i%2 == 0):\n",
    "            layers.append(param.data)\n",
    "        else:\n",
    "            k = int((i-1)/2)\n",
    "            layers[k] = torch.cat((layers[k], param.data.unsqueeze(1)), 1) \n",
    "        i += 1\n",
    "    acc = accuracy(model, test_loader)\n",
    "    print('Accuracy on test set: {}'.format(acc))  \n",
    "\n",
    "    return layers"
   ]
  },
  {
   "cell_type": "code",
   "execution_count": 95,
   "metadata": {},
   "outputs": [
    {
     "data": {
      "image/png": "[encoded data removed]",
      "text/plain": [
       "<Figure size 432x288 with 1 Axes>"
      ]
     },
     "metadata": {
      "needs_background": "light"
     },
     "output_type": "display_data"
    },
    {
     "name": "stdout",
     "output_type": "stream",
     "text": [
      "Accuracy on test set: 0.802\n"
     ]
    }
   ],
   "source": [
    "lys = (get_model_paras(portion = 50))"
   ]
  },
  {
   "cell_type": "code",
   "execution_count": 65,
   "metadata": {},
   "outputs": [],
   "source": [
    "for i in range (2000):\n",
    "    torch.save(get_model_paras(portion = i%100), 'meta_train/'+ str(i) +'.pt')    \n",
    "    ## e.g. if the index is 218, the percentage should be 18%"
   ]
  },
  {
   "cell_type": "code",
   "execution_count": null,
   "metadata": {},
   "outputs": [],
   "source": []
  }
 ],
 "metadata": {
  "kernelspec": {
   "display_name": "Python 3",
   "language": "python",
   "name": "python3"
  },
  "language_info": {
   "codemirror_mode": {
    "name": "ipython",
    "version": 3
   },
   "file_extension": ".py",
   "mimetype": "text/x-python",
   "name": "python",
   "nbconvert_exporter": "python",
   "pygments_lexer": "ipython3",
   "version": "3.8.2"
  }
 },
 "nbformat": 4,
 "nbformat_minor": 4
}
