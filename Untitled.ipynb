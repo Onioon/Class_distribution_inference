{
 "cells": [
  {
   "cell_type": "code",
   "execution_count": 1,
   "metadata": {},
   "outputs": [],
   "source": [
    "import argparse\n",
    "import time\n",
    "\n",
    "import numpy as np\n",
    "import pandas as pd\n",
    "from sklearn.preprocessing import LabelEncoder, OneHotEncoder\n",
    "from sklearn.model_selection import train_test_split\n",
    "\n",
    "import torch\n",
    "from torch.autograd import Variable\n",
    "from torch.utils.data import DataLoader\n",
    "\n",
    "\n",
    "import torch.utils.data as data\n",
    "import matplotlib.pyplot as plt\n",
    "from matplotlib.pyplot import imshow\n",
    "from scipy.signal import savgol_filter\n",
    "\n",
    "\n",
    "\n",
    "\"\"\" Adult income classification\n",
    "\n",
    "In this project, I have built my own multilayer perceptron to do classification on the adult income dataset. \n",
    "Information on the dataset can be found here: http://www.cs.toronto.edu/~delve/data/adult/adultDetail.html\n",
    "\n",
    "Goal: To predict the \"income\" field (>50k or <50k) based on the other fields in the dataset\n",
    "\n",
    "\"\"\"\n",
    "#SETTING PARAMETERS \n",
    "bs = 64 #batch size --> bs * iterations of N = approx. no.samples\n",
    "lr = 1 #learning rate \n",
    "numepoch = 7\n",
    "seed = 0\n",
    "N = 10 #print accuracy after N batches"
   ]
  },
  {
   "cell_type": "code",
   "execution_count": 2,
   "metadata": {},
   "outputs": [],
   "source": [
    "# =================================== LOAD DATASET =========================================== #\n",
    "\n",
    "data = pd.read_csv('adult.csv') #dataset is imported as a DataFrame object\n"
   ]
  },
  {
   "cell_type": "code",
   "execution_count": 3,
   "metadata": {},
   "outputs": [
    {
     "name": "stdout",
     "output_type": "stream",
     "text": [
      "(48842, 15)\n",
      "Index(['age', 'workclass', 'fnlwgt', 'education', 'educational-num',\n",
      "       'marital-status', 'occupation', 'relationship', 'race', 'gender',\n",
      "       'capital-gain', 'capital-loss', 'hours-per-week', 'native-country',\n",
      "       'income'],\n",
      "      dtype='object')\n"
     ]
    },
    {
     "data": {
      "text/plain": [
       "<=50K    37155\n",
       ">50K     11687\n",
       "Name: income, dtype: int64"
      ]
     },
     "execution_count": 3,
     "metadata": {},
     "output_type": "execute_result"
    }
   ],
   "source": [
    "\n",
    "# =================================== DATA VISUALIZATION =========================================== #\n",
    "\n",
    "print(data.shape) #(48842,15)\n",
    "print(data.columns) #(15)--> ['age','workclass',.......]\n",
    "\n",
    "\n",
    "income = pd.Index([\">50K\", \"<=50K\"]) #Index of incomes\n",
    "data.income.value_counts() #No. of high income, No. of low income"
   ]
  },
  {
   "cell_type": "code",
   "execution_count": 4,
   "metadata": {},
   "outputs": [
    {
     "name": "stdout",
     "output_type": "stream",
     "text": [
      "?s in age : 0\n",
      "?s in workclass : 2799\n",
      "?s in fnlwgt : 0\n",
      "?s in education : 0\n",
      "?s in educational-num : 0\n",
      "?s in marital-status : 0\n",
      "?s in occupation : 10\n",
      "?s in relationship : 0\n",
      "?s in race : 0\n",
      "?s in gender : 0\n",
      "?s in capital-gain : 0\n",
      "?s in capital-loss : 0\n",
      "?s in hours-per-week : 0\n",
      "?s in native-country : 811\n",
      "?s in income : 0\n"
     ]
    },
    {
     "name": "stderr",
     "output_type": "stream",
     "text": [
      "/Library/Frameworks/Python.framework/Versions/3.8/lib/python3.8/site-packages/pandas/core/ops/array_ops.py:253: FutureWarning: elementwise comparison failed; returning scalar instead, but in the future will perform elementwise comparison\n",
      "  res_values = method(rvalues)\n"
     ]
    },
    {
     "ename": "NameError",
     "evalue": "name 'pie_chart' is not defined",
     "output_type": "error",
     "traceback": [
      "\u001b[0;31m---------------------------------------------------------------------------\u001b[0m",
      "\u001b[0;31mNameError\u001b[0m                                 Traceback (most recent call last)",
      "\u001b[0;32m<ipython-input-4-ab29c466286c>\u001b[0m in \u001b[0;36m<module>\u001b[0;34m\u001b[0m\n\u001b[1;32m     18\u001b[0m \u001b[0;31m# Visualize first 3 features using pie and bar graphs\u001b[0m\u001b[0;34m\u001b[0m\u001b[0;34m\u001b[0m\u001b[0;34m\u001b[0m\u001b[0m\n\u001b[1;32m     19\u001b[0m \u001b[0;31m#Pie charts\u001b[0m\u001b[0;34m\u001b[0m\u001b[0;34m\u001b[0m\u001b[0;34m\u001b[0m\u001b[0m\n\u001b[0;32m---> 20\u001b[0;31m \u001b[0mpie_chart\u001b[0m\u001b[0;34m(\u001b[0m\u001b[0mdata\u001b[0m\u001b[0;34m,\u001b[0m \u001b[0;34m'workclass'\u001b[0m\u001b[0;34m)\u001b[0m\u001b[0;34m\u001b[0m\u001b[0;34m\u001b[0m\u001b[0m\n\u001b[0m\u001b[1;32m     21\u001b[0m \u001b[0mpie_chart\u001b[0m\u001b[0;34m(\u001b[0m\u001b[0mdata\u001b[0m\u001b[0;34m,\u001b[0m \u001b[0;34m'race'\u001b[0m\u001b[0;34m)\u001b[0m\u001b[0;34m\u001b[0m\u001b[0;34m\u001b[0m\u001b[0m\n\u001b[1;32m     22\u001b[0m \u001b[0mpie_chart\u001b[0m\u001b[0;34m(\u001b[0m\u001b[0mdata\u001b[0m\u001b[0;34m,\u001b[0m \u001b[0;34m'education'\u001b[0m\u001b[0;34m)\u001b[0m\u001b[0;34m\u001b[0m\u001b[0;34m\u001b[0m\u001b[0m\n",
      "\u001b[0;31mNameError\u001b[0m: name 'pie_chart' is not defined"
     ]
    }
   ],
   "source": [
    "\n",
    "# =================================== DATA CLEANING =========================================== #\n",
    "\n",
    "# Missing values are indicated with the symbol \"?\" in the dataset. \n",
    "\n",
    "# Count how many \"?\" entries there are for each feature\n",
    "col_names = data.columns\n",
    "num_rows = data.shape[0]\n",
    "\n",
    "for feature in col_names: \n",
    "    count = data[feature].isin([\"?\"]).sum() #sum the \"?\"s in the column  \n",
    "    print(\"?s in\", feature, \":\", count)\n",
    "    \n",
    "\n",
    "    # Get rid of samples with 1 or more \"?\"  \n",
    "    #loop through recursively, removing any rows with a \"?\"\", starting from 1st col.\n",
    "    data = data[data[feature] != \"?\"]\n",
    "    \n",
    "# Visualize first 3 features using pie and bar graphs\n",
    "#Pie charts \n",
    "pie_chart(data, 'workclass')\n",
    "pie_chart(data, 'race')\n",
    "pie_chart(data, 'education')\n",
    "\n",
    "#Bar graphs\n",
    "binary_bar_chart(data, 'workclass')\n",
    "binary_bar_chart(data, 'race')\n",
    "binary_bar_chart(data, 'education')"
   ]
  }
 ],
 "metadata": {
  "kernelspec": {
   "display_name": "Python 3",
   "language": "python",
   "name": "python3"
  },
  "language_info": {
   "codemirror_mode": {
    "name": "ipython",
    "version": 3
   },
   "file_extension": ".py",
   "mimetype": "text/x-python",
   "name": "python",
   "nbconvert_exporter": "python",
   "pygments_lexer": "ipython3",
   "version": "3.8.2"
  }
 },
 "nbformat": 4,
 "nbformat_minor": 4
}
